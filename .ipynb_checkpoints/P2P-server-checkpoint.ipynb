{
 "cells": [
  {
   "cell_type": "markdown",
   "metadata": {},
   "source": [
    "# Importing required modules and programs"
   ]
  },
  {
   "cell_type": "code",
   "execution_count": null,
   "metadata": {},
   "outputs": [],
   "source": [
    "import mysql.connector\n",
    "import hashlib\n",
    "import os\n",
    "from server import Server\n",
    "from dbconnector import connection"
   ]
  },
  {
   "cell_type": "markdown",
   "metadata": {},
   "source": [
    "# Checksum Function"
   ]
  },
  {
   "cell_type": "code",
   "execution_count": null,
   "metadata": {},
   "outputs": [],
   "source": [
    "def CheckSOM(filename):\n",
    "    hasher=hashlib.md5()\n",
    "    with open(filename, 'rb') as file:\n",
    "        content=file.read()\n",
    "        hasher.update(content)\n",
    "    return hasher.hexdigest()"
   ]
  },
  {
   "cell_type": "markdown",
   "metadata": {},
   "source": [
    "# Connecting to Database"
   ]
  },
  {
   "cell_type": "code",
   "execution_count": null,
   "metadata": {},
   "outputs": [],
   "source": [
    "mycursor,db = connection(\"192.168.1.11\")\n",
    "print(\"[SUCCESS] Connected to database succesfully...\")"
   ]
  },
  {
   "cell_type": "markdown",
   "metadata": {},
   "source": [
    "# Initializing Database"
   ]
  },
  {
   "cell_type": "code",
   "execution_count": null,
   "metadata": {},
   "outputs": [],
   "source": [
    "USERNAME = input(\"Enter Username: \")\n",
    "PublicIP = input(\"Enter PublicIP: \")\n",
    "loc = input(\"Create a folder named Shareable Folder and enter location of the folder: \")\n",
    "\n",
    "print(\"[INITIALIZING] Setting up database...\")\n",
    "\n",
    "config = (USERNAME,PublicIP)\n",
    "mycursor.execute(f\"DELETE FROM filedatabase WHERE USERNAME = '{USERNAME}' \")\n",
    "db.commit()\n",
    "mycursor.execute(f\"DELETE FROM userdatabase WHERE USERNAME = '{USERNAME}' \")\n",
    "db.commit()\n",
    "mycursor.execute(f\"\"\"INSERT INTO userdatabase (USERNAME,PublicIP) \n",
    "VALUES {config}\"\"\")\n",
    "datalist = []\n",
    "\n",
    "os.chdir(loc)\n",
    "contents = os.listdir()    \n",
    "for name in contents:\n",
    "    if os.path.isfile(name):\n",
    "        datalist.append((name, os.path.getsize(name), f\"{loc}\", CheckSOM(name), f\"{USERNAME}\"))\n",
    "\n",
    "datalist = [str(i) for i in datalist]\n",
    "values = ','.join(datalist)\n",
    "\n",
    "mycursor.execute(f\"\"\"INSERT INTO filedatabase (FILENAME,SIZE,LOCATION,CHECKSUM,USERNAME) \n",
    "VALUES {values}\"\"\")\n",
    "db.commit()\n",
    "\n",
    "print(\"[FINISHED] Setup completed...\")"
   ]
  },
  {
   "cell_type": "markdown",
   "metadata": {},
   "source": [
    "# Starting Server"
   ]
  },
  {
   "cell_type": "code",
   "execution_count": null,
   "metadata": {},
   "outputs": [],
   "source": [
    "server1 = Server(loc)"
   ]
  }
 ],
 "metadata": {
  "kernelspec": {
   "display_name": "Python 3",
   "language": "python",
   "name": "python3"
  },
  "language_info": {
   "codemirror_mode": {
    "name": "ipython",
    "version": 3
   },
   "file_extension": ".py",
   "mimetype": "text/x-python",
   "name": "python",
   "nbconvert_exporter": "python",
   "pygments_lexer": "ipython3",
   "version": "3.9.2"
  }
 },
 "nbformat": 4,
 "nbformat_minor": 4
}
