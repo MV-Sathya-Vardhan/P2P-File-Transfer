{
 "cells": [
  {
   "cell_type": "code",
   "execution_count": 1,
   "id": "institutional-atlantic",
   "metadata": {},
   "outputs": [],
   "source": [
    "import os\n",
    "import hashlib\n",
    "from dbconnector import connection\n",
    "\n",
    "mycursor,db = connection(\"192.168.1.11\")"
   ]
  },
  {
   "cell_type": "code",
   "execution_count": 3,
   "id": "organizational-magic",
   "metadata": {},
   "outputs": [],
   "source": [
    "def CheckSOM(filename):\n",
    "    hasher=hashlib.md5()\n",
    "    with open(filename, 'rb') as file:\n",
    "        content=file.read()\n",
    "        hasher.update(content)\n",
    "    return hasher.hexdigest()"
   ]
  },
  {
   "cell_type": "markdown",
   "id": "aware-resistance",
   "metadata": {},
   "source": [
    "# INITIALIZING DATABASE\n"
   ]
  },
  {
   "cell_type": "code",
   "execution_count": 9,
   "id": "short-return",
   "metadata": {},
   "outputs": [
    {
     "name": "stdout",
     "output_type": "stream",
     "text": [
      "Enter Username: TEST\n",
      "Enter PublicIP: 23.324.212.32\n",
      "Create a folder named Shareable Folder and enter location of the folder with extra back-slash: D:\\Shareable Folder\n"
     ]
    }
   ],
   "source": [
    "USERNAME = input(\"Enter Username: \")\n",
    "PublicIP = input(\"Enter PublicIP: \")\n",
    "config = (USERNAME,PublicIP)\n",
    "mycursor.execute(f\"DELETE FROM filedatabase WHERE USERNAME = '{USERNAME}' \")\n",
    "db.commit()\n",
    "mycursor.execute(f\"DELETE FROM userdatabase WHERE USERNAME = '{USERNAME}' \")\n",
    "db.commit()\n",
    "mycursor.execute(f\"\"\"INSERT INTO userdatabase (USERNAME,PublicIP) \n",
    "VALUES {config}\"\"\")\n",
    "datalist = []\n",
    "loc = input(\"Create a folder named Shareable Folder and enter location of the folder with extra back-slash: \")\n",
    "os.chdir(loc)\n",
    "contents = os.listdir()    \n",
    "for name in contents:\n",
    "    if os.path.isfile(name):\n",
    "        datalist.append((name, os.path.getsize(name), f\"{loc}\", CheckSOM(name), f\"{USERNAME}\"))\n",
    "\n",
    "datalist = [str(i) for i in datalist]\n",
    "values = ','.join(datalist)\n",
    "\n",
    "mycursor.execute(f\"\"\"INSERT INTO filedatabase (FILENAME,SIZE,LOCATION,CHECKSUM,USERNAME) \n",
    "VALUES {values}\"\"\")\n",
    "db.commit()\n",
    "\n",
    "# Enter Username: TEST\n",
    "# Enter PublicIP: 23.324.212.32\n",
    "# Create a folder named Shareable Folder and enter location of the folder with extra back-slash: D:\\Shareable Folder"
   ]
  },
  {
   "cell_type": "code",
   "execution_count": 10,
   "id": "saving-finnish",
   "metadata": {},
   "outputs": [
    {
     "name": "stdout",
     "output_type": "stream",
     "text": [
      "('Pras', 'Lists T1.txt', '5847', 'D:\\\\Shareable Folder', 'f0088284fefcf51d21e2be3cf2c10250')\n",
      "('Pras', 'Tenet 2020 1080p 10bit IMAX BluRay Hindi English AAC 5.1 x265 HEVC - MoviePirate - Telly.mkv', '3392896249', 'D:\\\\Shareable Folder', '14dd7039f2f11cd660f0f39342ce82ce')\n",
      "('Pras', 'Textbook.pdf', '223204499', 'D:\\\\Shareable Folder', '297e7d12b2b64441cd929082982020db')\n",
      "('TEST', '192.168.1.11', '111602249', 'D:\\\\Shareable Folder', 'f9325ab20bcd322a64a57dfdfae8a46a')\n",
      "('TEST', '192.168.1.17', '111602250', 'D:\\\\Shareable Folder', '904d38131c83abe9fcad0f49b3d2b1af')\n",
      "('TEST', 'A.jpg', '8753', 'D:\\\\Shareable Folder', '3c39fd8736247d14d87de894500f86c7')\n",
      "('TEST', 'A.png', '55226', 'D:\\\\Shareable Folder', '2710c7f2641b08fae14af3c3cc7c614b')\n",
      "('TEST', 'B.jpg', '8753', 'D:\\\\Shareable Folder', '3c39fd8736247d14d87de894500f86c7')\n",
      "('TEST', 'B.pdf', '3578918', 'D:\\\\Shareable Folder', '70893eebb8f487a4d63d16e3c902cfe0')\n",
      "('TEST', 'config.json', '60', 'D:\\\\Shareable Folder', 'd6d8dc73784950d531d268c4905fe66a')\n",
      "('TEST', 'config.json.txt', '60', 'D:\\\\Shareable Folder', 'd6d8dc73784950d531d268c4905fe66a')\n",
      "('TEST', 'Gift.jpg', '95514', 'D:\\\\Shareable Folder', '8f8d67d12eba400e70fd4983722be485')\n",
      "('TEST', 'intermediate.txt', '5847', 'D:\\\\Shareable Folder', 'f0088284fefcf51d21e2be3cf2c10250')\n",
      "('TEST', 'lakshay.pdf', '3578918', 'D:\\\\Shareable Folder', '70893eebb8f487a4d63d16e3c902cfe0')\n",
      "('TEST', 'Lists T1.txt', '5847', 'D:\\\\Shareable Folder', 'f0088284fefcf51d21e2be3cf2c10250')\n",
      "('TEST', 'Naya.txt', '127', 'D:\\\\Shareable Folder', 'd2045c2ac13c9f902e3c73d92ec1a547')\n",
      "('TEST', 'New Text Document.txt', '0', 'D:\\\\Shareable Folder', 'd41d8cd98f00b204e9800998ecf8427e')\n",
      "('TEST', 'OpenLab.drawio', '2374', 'D:\\\\Shareable Folder', 'd36f557fc20889453ab08aacb97cc9aa')\n",
      "('TEST', 'prasanna.pdf', '3630118', 'D:\\\\Shareable Folder', 'fc994a1844980ad949f55adaa98841f1')\n",
      "('TEST', 'prasbhai.pdf', '3578918', 'D:\\\\Shareable Folder', '70893eebb8f487a4d63d16e3c902cfe0')\n",
      "('TEST', 'Result.pdf', '223204499', 'D:\\\\Shareable Folder', '297e7d12b2b64441cd929082982020db')\n",
      "('TEST', 'Sample1.txt', '5847', 'D:\\\\Shareable Folder', 'f0088284fefcf51d21e2be3cf2c10250')\n",
      "('TEST', 'sathya.pdf', '3578918', 'D:\\\\Shareable Folder', '70893eebb8f487a4d63d16e3c902cfe0')\n",
      "('TEST', 'satya.pdf', '3578918', 'D:\\\\Shareable Folder', '70893eebb8f487a4d63d16e3c902cfe0')\n",
      "('TEST', 'Textbook.pdf', '223204499', 'D:\\\\Shareable Folder', '297e7d12b2b64441cd929082982020db')\n",
      "('TEST', 'vardhan.pdf', '3578918', 'D:\\\\Shareable Folder', '70893eebb8f487a4d63d16e3c902cfe0')\n",
      "('TEST', 'VLSI_Design_Record_ECE18081.pdf', '3578918', 'D:\\\\Shareable Folder', '70893eebb8f487a4d63d16e3c902cfe0')\n"
     ]
    }
   ],
   "source": [
    "mycursor.execute(\"SELECT * FROM filedatabase\")\n",
    "\n",
    "for x in mycursor:\n",
    "    print(x)"
   ]
  },
  {
   "cell_type": "code",
   "execution_count": 3,
   "id": "familiar-elizabeth",
   "metadata": {},
   "outputs": [],
   "source": [
    "mycursor.execute(\"SELECT * FROM filedatabase\")\n",
    "\n",
    "for x in mycursor:\n",
    "    print(x)"
   ]
  },
  {
   "cell_type": "code",
   "execution_count": 2,
   "id": "silent-origin",
   "metadata": {},
   "outputs": [],
   "source": [
    "mycursor.execute(\"DELETE From filedatabase\")\n",
    "db.commit()\n"
   ]
  },
  {
   "cell_type": "code",
   "execution_count": null,
   "id": "tribal-gazette",
   "metadata": {},
   "outputs": [],
   "source": []
  }
 ],
 "metadata": {
  "kernelspec": {
   "display_name": "Python 3",
   "language": "python",
   "name": "python3"
  },
  "language_info": {
   "codemirror_mode": {
    "name": "ipython",
    "version": 3
   },
   "file_extension": ".py",
   "mimetype": "text/x-python",
   "name": "python",
   "nbconvert_exporter": "python",
   "pygments_lexer": "ipython3",
   "version": "3.9.2"
  }
 },
 "nbformat": 4,
 "nbformat_minor": 5
}
