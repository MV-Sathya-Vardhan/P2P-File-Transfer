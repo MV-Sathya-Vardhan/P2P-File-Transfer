{
 "cells": [
  {
   "cell_type": "markdown",
   "metadata": {},
   "source": [
    "# Importing required modules and programs"
   ]
  },
  {
   "cell_type": "code",
   "execution_count": null,
   "metadata": {},
   "outputs": [],
   "source": [
    "from dbconnector import connection\n",
    "from client import Client\n",
    "import time\n",
    "import threading\n",
    "import hashlib\n",
    "import os"
   ]
  },
  {
   "cell_type": "markdown",
   "metadata": {},
   "source": [
    "# Connecting To Database"
   ]
  },
  {
   "cell_type": "code",
   "execution_count": null,
   "metadata": {},
   "outputs": [],
   "source": [
    "mycursor,db = connection(\"192.168.1.11\")\n",
    "print(\"[SUCCESS] Connected to database succesfully...\")"
   ]
  },
  {
   "cell_type": "markdown",
   "metadata": {},
   "source": [
    "# Making query in Database"
   ]
  },
  {
   "cell_type": "code",
   "execution_count": null,
   "metadata": {},
   "outputs": [],
   "source": [
    "Filename = input(\"Enter Filename: \")\n",
    "\n",
    "print(\"[SEARCHING] Searching for file in database...\")\n",
    "\n",
    "mycursor.execute(f\"\"\"SELECT u.PublicIP, f.SIZE, f.CHECKSUM FROM filedatabase f INNER JOIN userdatabase u USING (USERNAME) \n",
    "WHERE f.FILENAME = '{Filename}' \"\"\")\n",
    "\n",
    "listof_IPs = []\n",
    "\n",
    "size = 0\n",
    "checksum = \"\"\n",
    "\n",
    "for x in mycursor:\n",
    "    listof_IPs.append(x[0])\n",
    "    size = int(x[1])\n",
    "    checksum = x[2]\n",
    "print(\"[COMPLETE] Search Complete...\")"
   ]
  },
  {
   "cell_type": "markdown",
   "metadata": {},
   "source": [
    "# Connecting to peers"
   ]
  },
  {
   "cell_type": "code",
   "execution_count": null,
   "metadata": {},
   "outputs": [],
   "source": [
    "number_of_peers = len(listof_IPs)\n",
    "inc = size//number_of_peers\n",
    "offset = 0\n",
    "offset_lookup = {}\n",
    "for i,IP in enumerate(listof_IPs):\n",
    "    if IP not in offset_lookup:\n",
    "        offset_lookup[IP] = dict()\n",
    "    offset_lookup[IP]['start'] = offset\n",
    "    if i == number_of_peers-1:\n",
    "        offset_lookup[IP]['end'] = size\n",
    "    else:\n",
    "        offset_lookup[IP]['end'] = offset + inc\n",
    "        offset += inc\n",
    "client_lookup = {}\n",
    "for IP in listof_IPs:\n",
    "    client_lookup[IP] = Client(IP,offset_lookup[IP]['start'],offset_lookup[IP]['end'],Filename)\n",
    "    \n",
    "for IP in client_lookup:\n",
    "    client_lookup[IP].handshake()\n",
    "\n"
   ]
  },
  {
   "cell_type": "markdown",
   "metadata": {},
   "source": [
    "# Receiving Chunks"
   ]
  },
  {
   "cell_type": "code",
   "execution_count": null,
   "metadata": {},
   "outputs": [],
   "source": [
    "location = input(\"Enter Location where you want to download file: \")\n",
    "\n",
    "tick = time.time()\n",
    "\n",
    "print(\"[DOWNLOADING] Started downloading...\")\n",
    "threads=[]\n",
    "for IP in client_lookup:\n",
    "    t=threading.Thread(target=client_lookup[IP].receiving, args=[location])\n",
    "    t.start()\n",
    "    threads.append(t)\n",
    "for thread in threads:\n",
    "    thread.join()\n",
    "\n",
    "clock= time.time()\n",
    "print(f\"[COMPLETED] Finished downloading in {(clock-tick):.2f} seconds!\")"
   ]
  },
  {
   "cell_type": "markdown",
   "metadata": {},
   "source": [
    "# Joining Chunks"
   ]
  },
  {
   "cell_type": "code",
   "execution_count": null,
   "metadata": {},
   "outputs": [],
   "source": [
    "print(\"[JOINING] Joining chunks...\")\n",
    "target = Filename\n",
    "count = 0\n",
    "for IP in client_lookup:\n",
    "    with open(IP,'rb') as tempfile:\n",
    "        data  = tempfile.read()\n",
    "        with open(target,'ab') as dest:\n",
    "            dest.write(data)\n",
    "    count += 1\n",
    "    print(f\"{count} of {number_of_peers} chunks joined...\")\n",
    "    os.remove(IP)\n",
    "print(\"[COMPLETE] Joining complete...\")"
   ]
  },
  {
   "cell_type": "markdown",
   "metadata": {},
   "source": [
    "# Performing Checksum"
   ]
  },
  {
   "cell_type": "code",
   "execution_count": null,
   "metadata": {},
   "outputs": [],
   "source": [
    "print(\"[VERIFYING] Verfiying download...\")\n",
    "\n",
    "hasher = hashlib.md5()\n",
    "\n",
    "with open(target,'rb') as Source:\n",
    "    content = Source.read()\n",
    "    hasher.update(content)\n",
    "recvd_check=hasher.hexdigest()\n",
    "\n",
    "if recvd_check != checksum:\n",
    "     print(\"[FAILED] Please try again...\")\n",
    "else:\n",
    "     print(\"[SUCCESSFUL] Downloaded Succesfully...\")"
   ]
  }
 ],
 "metadata": {
  "kernelspec": {
   "display_name": "Python 3",
   "language": "python",
   "name": "python3"
  },
  "language_info": {
   "codemirror_mode": {
    "name": "ipython",
    "version": 3
   },
   "file_extension": ".py",
   "mimetype": "text/x-python",
   "name": "python",
   "nbconvert_exporter": "python",
   "pygments_lexer": "ipython3",
   "version": "3.9.2"
  }
 },
 "nbformat": 4,
 "nbformat_minor": 4
}
