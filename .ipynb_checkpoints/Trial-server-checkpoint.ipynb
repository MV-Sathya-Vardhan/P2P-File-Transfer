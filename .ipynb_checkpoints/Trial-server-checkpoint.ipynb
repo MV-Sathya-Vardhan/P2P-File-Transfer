{
 "cells": [
  {
   "cell_type": "code",
   "execution_count": null,
   "metadata": {},
   "outputs": [],
   "source": [
    "import mysql.connector\n",
    "import hashlib\n",
    "import os\n",
    "from server import Server\n",
    "\n",
    "def CheckSOM(filename):\n",
    "    hasher=hashlib.md5()\n",
    "    with open(filename, 'rb') as file:\n",
    "        content=file.read()\n",
    "        hasher.update(content)\n",
    "    return hasher.hexdigest()\n",
    "\n",
    "db = mysql.connector.connect(\n",
    "    host = \"192.168.1.11\",\n",
    "    user = \"OpenLab\",\n",
    "    passwd = \"peer2peer\",\n",
    "    database = \"openlabdatabase\")\n",
    "\n",
    "mycursor = db.cursor()"
   ]
  },
  {
   "cell_type": "code",
   "execution_count": null,
   "metadata": {},
   "outputs": [],
   "source": [
    "USERNAME = input(\"Enter Username: \")\n",
    "PublicIP = input(\"Enter PublicIP: \")\n",
    "config = (USERNAME,PublicIP)\n",
    "mycursor.execute(f\"DELETE FROM filedatabase WHERE USERNAME = '{USERNAME}' \")\n",
    "db.commit()\n",
    "mycursor.execute(f\"DELETE FROM userdatabase WHERE USERNAME = '{USERNAME}' \")\n",
    "db.commit()\n",
    "mycursor.execute(f\"\"\"INSERT INTO userdatabase (USERNAME,PublicIP) \n",
    "VALUES {config}\"\"\")\n",
    "datalist = []\n",
    "loc = input(\"Create a folder named Shareable Folder and enter location of the folder: \")\n",
    "os.chdir(loc)\n",
    "contents = os.listdir()    \n",
    "for name in contents:\n",
    "    if os.path.isfile(i):\n",
    "        datalist.append((name, os.path.getsize(name), f\"{loc}\", CheckSOM(name), f\"{USERNAME}\"))\n",
    "\n",
    "datalist = [str(i) for i in datalist]\n",
    "values = ','.join(datalist)\n",
    "\n",
    "mycursor.execute(f\"\"\"INSERT INTO filedatabase (FILENAME,SIZE,LOCATION,CHECKSUM,USERNAME) \n",
    "VALUES {values}\"\"\")\n",
    "db.commit()"
   ]
  },
  {
   "cell_type": "code",
   "execution_count": null,
   "metadata": {},
   "outputs": [
    {
     "name": "stdout",
     "output_type": "stream",
     "text": [
      "[STARTING] server is starting...\n",
      "[LISTENING] Server is listening on 192.168.1.11\n",
      "[NEW CONNECTION] ('192.168.1.11', 58261) connected.\n",
      "[NEW CONNECTION] ('192.168.1.11', 58262) connected.\n",
      "1024\n",
      "1024\n",
      "1024\n",
      "2048\n",
      "875\n",
      "2923\n",
      "Sending complete\n",
      "[DISCONNECTED] ('192.168.1.11', 58262)\n",
      "[DISCONNECTED] ('192.168.1.11', 58261)\n"
     ]
    }
   ],
   "source": [
    "server1 = Server(loc)"
   ]
  }
 ],
 "metadata": {
  "kernelspec": {
   "display_name": "Python 3",
   "language": "python",
   "name": "python3"
  },
  "language_info": {
   "codemirror_mode": {
    "name": "ipython",
    "version": 3
   },
   "file_extension": ".py",
   "mimetype": "text/x-python",
   "name": "python",
   "nbconvert_exporter": "python",
   "pygments_lexer": "ipython3",
   "version": "3.9.2"
  }
 },
 "nbformat": 4,
 "nbformat_minor": 4
}
