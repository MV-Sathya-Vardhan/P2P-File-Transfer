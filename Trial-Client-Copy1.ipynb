{
 "cells": [
  {
   "cell_type": "code",
   "execution_count": null,
   "metadata": {},
   "outputs": [],
   "source": [
    "#New Call Function:\n",
    "listof_IPs,size = get_info(filename)# two table calls one to get size and other to get list of IPs\n",
    "\n",
    "'''size,loc,IP,checksum\n",
    "\n",
    "\n",
    "\n",
    "'''\n",
    "\n",
    "\n",
    "\n",
    "number_of_peers = len(listof_IPs)\n",
    "inc = size//number_of_peers\n",
    "offset = 0\n",
    "offset_lookup = {}\n",
    "for i,IP in enumerate(listof_IPs):\n",
    "    if i == number_of_peers-1:\n",
    "        offset_lookup[IP] = size - inc*(number_of_peers - 1)\n",
    "    else:\n",
    "        offset_lookup[IP] = offset\n",
    "        offset += inc\n",
    "client_lookup = {}\n",
    "for IP in listof_IPs:\n",
    "    client_lookup[IP] = Client(IP,offset_lookup[IP],filename)\n"
   ]
  },
  {
   "cell_type": "code",
   "execution_count": null,
   "metadata": {},
   "outputs": [],
   "source": [
    "#CALL FUNCTIONS\n",
    "sourcefile = input(\"Enter Searchfile: \")\n",
    "sourcefile += \",1\"\n",
    "everything = (input(\"Enter name of target file along with address directory as name,directory: \"))\n",
    "target,location = everything.split(',')\n",
    "size,source = handshake(sourcefile)\n",
    "receiving(target,source,location,size)"
   ]
  },
  {
   "cell_type": "code",
   "execution_count": 2,
   "metadata": {},
   "outputs": [],
   "source": [
    "from client import Client"
   ]
  },
  {
   "cell_type": "code",
   "execution_count": 3,
   "metadata": {},
   "outputs": [],
   "source": [
    "client1 = Client('192.168.1.17',0,'Textbook.pdf,1')"
   ]
  },
  {
   "cell_type": "code",
   "execution_count": 4,
   "metadata": {},
   "outputs": [
    {
     "name": "stdout",
     "output_type": "stream",
     "text": [
      "Textbook.pdf with size 223204499 Found on SERVER! \n"
     ]
    }
   ],
   "source": [
    "client1.handshake()"
   ]
  },
  {
   "cell_type": "code",
   "execution_count": 5,
   "metadata": {},
   "outputs": [],
   "source": [
    "client1.disconnect()"
   ]
  },
  {
   "cell_type": "code",
   "execution_count": null,
   "metadata": {},
   "outputs": [],
   "source": [
    "client2 = Client('192.168.1.11',26,'Textbook.pdf')"
   ]
  },
  {
   "cell_type": "code",
   "execution_count": null,
   "metadata": {},
   "outputs": [],
   "source": [
    "client2.disconnect()"
   ]
  },
  {
   "cell_type": "code",
   "execution_count": null,
   "metadata": {},
   "outputs": [],
   "source": []
  }
 ],
 "metadata": {
  "kernelspec": {
   "display_name": "Python 3",
   "language": "python",
   "name": "python3"
  },
  "language_info": {
   "codemirror_mode": {
    "name": "ipython",
    "version": 3
   },
   "file_extension": ".py",
   "mimetype": "text/x-python",
   "name": "python",
   "nbconvert_exporter": "python",
   "pygments_lexer": "ipython3",
   "version": "3.9.2"
  }
 },
 "nbformat": 4,
 "nbformat_minor": 4
}
