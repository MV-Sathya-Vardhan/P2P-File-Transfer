{
 "cells": [
  {
   "cell_type": "code",
   "execution_count": 2,
   "metadata": {},
   "outputs": [
    {
     "name": "stdout",
     "output_type": "stream",
     "text": [
      "Textbook.pdf with size 223204499 Found on SERVER! \n",
      "Textbook.pdf with size 223204499 Found on SERVER! \n"
     ]
    }
   ],
   "source": [
    "#New Call Function:\n",
    "#listof_IPs,size = get_info(filename)# two table calls one to get size and other to get list of IPs\n",
    "\n",
    "'''size,loc,IP,checksum\n",
    "\n",
    "\n",
    "\n",
    "'''\n",
    "\n",
    "listof_IPs= ['192.168.1.11','192.168.1.17']\n",
    "\n",
    "size = 223204499\n",
    "\n",
    "number_of_peers = len(listof_IPs)\n",
    "inc = size//number_of_peers\n",
    "offset = 0\n",
    "offset_lookup = {}\n",
    "for i,IP in enumerate(listof_IPs):\n",
    "    if IP not in offset_lookup:\n",
    "        offset_lookup[IP] = dict()\n",
    "    offset_lookup[IP]['start'] = offset\n",
    "    if i == number_of_peers-1:\n",
    "        offset_lookup[IP]['end'] = size\n",
    "    else:\n",
    "        offset_lookup[IP]['end'] = offset + inc - 1\n",
    "        offset += inc\n",
    "client_lookup = {}\n",
    "for IP in listof_IPs:\n",
    "    client_lookup[IP] = Client(IP,offset_lookup[IP]['start'],offset_lookup[IP]['end'],'Textbook.pdf')\n",
    "\n",
    "for IP in client_lookup:\n",
    "    client_lookup[IP].handshake()\n",
    "\n"
   ]
  },
  {
   "cell_type": "code",
   "execution_count": null,
   "metadata": {},
   "outputs": [],
   "source": [
    "for IP in client_lookup:\n",
    "    client_lookup[IP].disconnect()"
   ]
  },
  {
   "cell_type": "code",
   "execution_count": null,
   "metadata": {},
   "outputs": [],
   "source": [
    "client_lookup"
   ]
  },
  {
   "cell_type": "code",
   "execution_count": 4,
   "metadata": {},
   "outputs": [
    {
     "data": {
      "text/plain": [
       "{'192.168.1.11': {'start': 0, 'end': 111602248},\n",
       " '192.168.1.17': {'start': 111602249, 'end': 223204499}}"
      ]
     },
     "execution_count": 4,
     "metadata": {},
     "output_type": "execute_result"
    }
   ],
   "source": [
    "offset_lookup"
   ]
  },
  {
   "cell_type": "code",
   "execution_count": null,
   "metadata": {},
   "outputs": [],
   "source": [
    "#CALL FUNCTIONS\n",
    "sourcefile = input(\"Enter Searchfile: \")\n",
    "sourcefile += \",1\"\n",
    "everything = (input(\"Enter name of target file along with address directory as name,directory: \"))\n",
    "target,location = everything.split(',')\n",
    "size,source = handshake(sourcefile)\n",
    "receiving(target,source,location,size)"
   ]
  },
  {
   "cell_type": "code",
   "execution_count": 1,
   "metadata": {},
   "outputs": [],
   "source": [
    "from client import Client"
   ]
  },
  {
   "cell_type": "code",
   "execution_count": null,
   "metadata": {},
   "outputs": [],
   "source": [
    "client1 = Client('192.168.1.17',0,'Textbook.pdf,1')"
   ]
  },
  {
   "cell_type": "code",
   "execution_count": null,
   "metadata": {},
   "outputs": [],
   "source": [
    "client1.handshake()"
   ]
  },
  {
   "cell_type": "code",
   "execution_count": null,
   "metadata": {},
   "outputs": [],
   "source": [
    "client1.disconnect()"
   ]
  },
  {
   "cell_type": "code",
   "execution_count": null,
   "metadata": {},
   "outputs": [],
   "source": [
    "client2 = Client('192.168.1.11',26,'Textbook.pdf')"
   ]
  },
  {
   "cell_type": "code",
   "execution_count": null,
   "metadata": {},
   "outputs": [],
   "source": [
    "client2.disconnect()"
   ]
  },
  {
   "cell_type": "code",
   "execution_count": null,
   "metadata": {},
   "outputs": [],
   "source": [
    "test = {1:'salt',2:'pepper',3:'egg',4:'rice'}"
   ]
  },
  {
   "cell_type": "code",
   "execution_count": null,
   "metadata": {},
   "outputs": [],
   "source": [
    "for i in test:\n",
    "    print(i)"
   ]
  },
  {
   "cell_type": "code",
   "execution_count": 3,
   "metadata": {},
   "outputs": [
    {
     "name": "stdout",
     "output_type": "stream",
     "text": [
      "Started receiving\n",
      "2048000\n",
      "2048000\n",
      "2048000\n",
      "2048000\n",
      "2048000\n",
      "2048000\n",
      "2048000\n",
      "2048000\n",
      "2048000\n",
      "2048000\n",
      "2048000\n",
      "2048000\n",
      "2048000\n",
      "2048000\n",
      "2048000\n",
      "2048000\n",
      "2048000\n",
      "2048000\n",
      "2048000\n",
      "2048000\n",
      "2048000\n",
      "2048000\n",
      "2048000\n",
      "2048000\n",
      "2048000\n",
      "2048000\n",
      "2048000\n",
      "2048000\n",
      "2048000\n",
      "2048000\n",
      "2048000\n",
      "2048000\n",
      "2048000\n",
      "2048000\n",
      "2048000\n",
      "2048000\n",
      "2048000\n",
      "2048000\n",
      "2048000\n",
      "2048000\n",
      "2048000\n",
      "2048000\n",
      "2048000\n",
      "2048000\n",
      "2048000\n",
      "2048000\n",
      "2048000\n",
      "2048000\n",
      "2048000\n",
      "2048000\n",
      "2048000\n",
      "2048000\n",
      "2048000\n",
      "2048000\n",
      "1010248\n",
      "Receiving complete from 192.168.1.11\n",
      "111602248\n",
      "Started receiving\n",
      "2048000\n",
      "210620\n",
      "93440\n",
      "93440\n",
      "147460\n",
      "127020\n",
      "93440\n",
      "160600\n",
      "113880\n",
      "166440\n",
      "46720\n",
      "113880\n",
      "681060\n",
      "2048000\n",
      "137620\n",
      "154760\n",
      "17520\n",
      "13140\n",
      "81760\n",
      "1643960\n",
      "42340\n",
      "91980\n",
      "1914060\n",
      "14600\n",
      "2032320\n",
      "116800\n",
      "13140\n",
      "80300\n",
      "1838140\n",
      "151840\n",
      "4380\n",
      "1892160\n",
      "148920\n",
      "1899460\n",
      "183960\n",
      "1862960\n",
      "188340\n",
      "65700\n",
      "5840\n",
      "1788500\n",
      "261340\n",
      "1787040\n",
      "178120\n",
      "102200\n",
      "65700\n",
      "61320\n",
      "48180\n",
      "1592860\n",
      "230680\n",
      "124100\n",
      "1460\n",
      "91980\n",
      "1598700\n",
      "246740\n",
      "1801640\n",
      "40880\n",
      "2007500\n",
      "91980\n",
      "35040\n",
      "64240\n",
      "176660\n",
      "11680\n",
      "42340\n",
      "109500\n",
      "10220\n",
      "1506720\n",
      "83220\n",
      "1963700\n",
      "153300\n",
      "46720\n",
      "65700\n",
      "51100\n",
      "29200\n",
      "1702360\n",
      "2920\n",
      "2045460\n",
      "16060\n",
      "2032320\n",
      "29200\n",
      "2017720\n",
      "125560\n",
      "1922820\n",
      "11680\n",
      "4380\n",
      "2032320\n",
      "78840\n",
      "84680\n",
      "99280\n",
      "49640\n",
      "13140\n",
      "89060\n",
      "1633740\n",
      "48180\n",
      "110960\n",
      "48180\n",
      "17520\n",
      "97820\n",
      "11680\n",
      "97820\n",
      "1614760\n",
      "112420\n",
      "1935960\n",
      "74460\n",
      "1973920\n",
      "2046920\n",
      "80300\n",
      "132860\n",
      "48180\n",
      "45260\n",
      "61320\n",
      "71540\n",
      "105120\n",
      "5840\n",
      "1497960\n",
      "166440\n",
      "73000\n",
      "4380\n",
      "1804560\n",
      "141620\n",
      "1906760\n",
      "100740\n",
      "1946180\n",
      "156220\n",
      "80300\n",
      "118260\n",
      "1693600\n",
      "116800\n",
      "143080\n",
      "58400\n",
      "140160\n",
      "11680\n",
      "93440\n",
      "103660\n",
      "1381160\n",
      "39420\n",
      "2008960\n",
      "191260\n",
      "1855660\n",
      "131400\n",
      "1916980\n",
      "29200\n",
      "2019180\n",
      "30660\n",
      "2017720\n",
      "94900\n",
      "2920\n",
      "1949100\n",
      "24820\n",
      "2023560\n",
      "14600\n",
      "2033780\n",
      "81760\n",
      "1966620\n",
      "137240\n",
      "1909680\n",
      "109500\n",
      "1938880\n",
      "52560\n",
      "1995820\n",
      "75920\n",
      "1972460\n",
      "83220\n",
      "14600\n",
      "2920\n",
      "1946180\n",
      "100740\n",
      "1947640\n",
      "46720\n",
      "81760\n",
      "1919900\n",
      "154760\n",
      "16060\n",
      "1876100\n",
      "30660\n",
      "2017720\n",
      "208780\n",
      "1839600\n",
      "192720\n",
      "816750\n",
      "Receiving complete from 192.168.1.17\n",
      "111602250\n",
      "9478.793382644653\n"
     ]
    }
   ],
   "source": [
    "import time\n",
    "tick = time.time()\n",
    "for IP in client_lookup:\n",
    "    client_lookup[IP].receiving(\"D:\\\\Shareable Folder\")\n",
    "clock= time.time()\n",
    "print(str(1000*(clock-tick)))\n"
   ]
  },
  {
   "cell_type": "code",
   "execution_count": 11,
   "metadata": {},
   "outputs": [],
   "source": [
    "target = \"Result.pdf\"\n",
    "for IP in client_lookup:\n",
    "    with open(IP,'rb') as tempfile:\n",
    "        data  = tempfile.read()\n",
    "        with open(target,'ab') as dest:\n",
    "            dest.write(data)"
   ]
  },
  {
   "cell_type": "code",
   "execution_count": 6,
   "metadata": {},
   "outputs": [],
   "source": [
    "import os"
   ]
  },
  {
   "cell_type": "code",
   "execution_count": 10,
   "metadata": {},
   "outputs": [
    {
     "data": {
      "text/plain": [
       "['192.168.1.11',\n",
       " '192.168.1.17',\n",
       " 'A.jpg',\n",
       " 'A.png',\n",
       " 'B.jpg',\n",
       " 'B.pdf',\n",
       " 'config.json',\n",
       " 'config.json.txt',\n",
       " 'Gift.jpg',\n",
       " 'intermediate.txt',\n",
       " 'lakshay.pdf',\n",
       " 'Lists T1.txt',\n",
       " 'Naya.txt',\n",
       " 'New Text Document.txt',\n",
       " 'OpenLab.drawio',\n",
       " 'prasanna.pdf',\n",
       " 'prasbhai.pdf',\n",
       " 'Sample1.txt',\n",
       " 'sathya.pdf',\n",
       " 'satya.pdf',\n",
       " 'TEMP',\n",
       " 'Textbook.pdf',\n",
       " 'vardhan.pdf',\n",
       " 'VLSI_Design_Record_ECE18081.pdf']"
      ]
     },
     "execution_count": 10,
     "metadata": {},
     "output_type": "execute_result"
    }
   ],
   "source": [
    "os.getcwd()\n",
    "os.listdir()"
   ]
  },
  {
   "cell_type": "code",
   "execution_count": null,
   "metadata": {},
   "outputs": [],
   "source": []
  }
 ],
 "metadata": {
  "kernelspec": {
   "display_name": "Python 3",
   "language": "python",
   "name": "python3"
  },
  "language_info": {
   "codemirror_mode": {
    "name": "ipython",
    "version": 3
   },
   "file_extension": ".py",
   "mimetype": "text/x-python",
   "name": "python",
   "nbconvert_exporter": "python",
   "pygments_lexer": "ipython3",
   "version": "3.9.2"
  }
 },
 "nbformat": 4,
 "nbformat_minor": 4
}
