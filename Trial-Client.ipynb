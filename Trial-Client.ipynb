{
 "cells": [
  {
   "cell_type": "code",
   "execution_count": 10,
   "metadata": {},
   "outputs": [
    {
     "name": "stdout",
     "output_type": "stream",
     "text": [
      "Lists T1.txt with size 5847 Found on SERVER! \n",
      "Lists T1.txt with size 5847 Found on SERVER! \n"
     ]
    }
   ],
   "source": [
    "#New Call Function:\n",
    "#listof_IPs,size = get_info(filename)# two table calls one to get size and other to get list of IPs\n",
    "\n",
    "'''size,loc,IP,checksum\n",
    "\n",
    "\n",
    "\n",
    "'''\n",
    "\n",
    "listof_IPs= ['192.168.1.11','192.168.1.17']\n",
    "\n",
    "size = 5847\n",
    "\n",
    "number_of_peers = len(listof_IPs)\n",
    "inc = size//number_of_peers\n",
    "offset = 0\n",
    "offset_lookup = {}\n",
    "for i,IP in enumerate(listof_IPs):\n",
    "    if IP not in offset_lookup:\n",
    "        offset_lookup[IP] = dict()\n",
    "    offset_lookup[IP]['start'] = offset\n",
    "    if i == number_of_peers-1:\n",
    "        offset_lookup[IP]['end'] = size\n",
    "    else:\n",
    "        offset_lookup[IP]['end'] = offset + inc\n",
    "        offset += inc\n",
    "client_lookup = {}\n",
    "for IP in listof_IPs:\n",
    "    client_lookup[IP] = Client(IP,offset_lookup[IP]['start'],offset_lookup[IP]['end'],'Lists T1.txt')\n",
    "\n",
    "for IP in client_lookup:\n",
    "    client_lookup[IP].handshake()\n",
    "\n"
   ]
  },
  {
   "cell_type": "code",
   "execution_count": 4,
   "metadata": {},
   "outputs": [],
   "source": [
    "for IP in client_lookup:\n",
    "    client_lookup[IP].disconnect()"
   ]
  },
  {
   "cell_type": "code",
   "execution_count": 6,
   "metadata": {},
   "outputs": [
    {
     "data": {
      "text/plain": [
       "{'192.168.1.11': <client.Client at 0x1cf65f89a30>,\n",
       " '192.168.1.17': <client.Client at 0x1cf65f89d60>}"
      ]
     },
     "execution_count": 6,
     "metadata": {},
     "output_type": "execute_result"
    }
   ],
   "source": [
    "client_lookup"
   ]
  },
  {
   "cell_type": "code",
   "execution_count": 11,
   "metadata": {},
   "outputs": [
    {
     "data": {
      "text/plain": [
       "{'192.168.1.11': {'start': 0, 'end': 2923},\n",
       " '192.168.1.17': {'start': 2923, 'end': 5847}}"
      ]
     },
     "execution_count": 11,
     "metadata": {},
     "output_type": "execute_result"
    }
   ],
   "source": [
    "offset_lookup"
   ]
  },
  {
   "cell_type": "code",
   "execution_count": null,
   "metadata": {},
   "outputs": [],
   "source": [
    "#CALL FUNCTIONS\n",
    "sourcefile = input(\"Enter Searchfile: \")\n",
    "sourcefile += \",1\"\n",
    "everything = (input(\"Enter name of target file along with address directory as name,directory: \"))\n",
    "target,location = everything.split(',')\n",
    "size,source = handshake(sourcefile)\n",
    "receiving(target,source,location,size)"
   ]
  },
  {
   "cell_type": "code",
   "execution_count": 2,
   "metadata": {},
   "outputs": [],
   "source": [
    "from client import Client"
   ]
  },
  {
   "cell_type": "code",
   "execution_count": null,
   "metadata": {},
   "outputs": [],
   "source": [
    "client1 = Client('192.168.1.17',0,'Textbook.pdf,1')"
   ]
  },
  {
   "cell_type": "code",
   "execution_count": null,
   "metadata": {},
   "outputs": [],
   "source": [
    "client1.handshake()"
   ]
  },
  {
   "cell_type": "code",
   "execution_count": null,
   "metadata": {},
   "outputs": [],
   "source": [
    "client1.disconnect()"
   ]
  },
  {
   "cell_type": "code",
   "execution_count": null,
   "metadata": {},
   "outputs": [],
   "source": [
    "client2 = Client('192.168.1.11',26,'Textbook.pdf')"
   ]
  },
  {
   "cell_type": "code",
   "execution_count": null,
   "metadata": {},
   "outputs": [],
   "source": [
    "client2.disconnect()"
   ]
  },
  {
   "cell_type": "code",
   "execution_count": null,
   "metadata": {},
   "outputs": [],
   "source": [
    "test = {1:'salt',2:'pepper',3:'egg',4:'rice'}"
   ]
  },
  {
   "cell_type": "code",
   "execution_count": null,
   "metadata": {},
   "outputs": [],
   "source": [
    "for i in test:\n",
    "    print(i)"
   ]
  },
  {
   "cell_type": "code",
   "execution_count": 12,
   "metadata": {},
   "outputs": [
    {
     "name": "stdout",
     "output_type": "stream",
     "text": [
      "Started receiving\n",
      "1024\n",
      "1024\n",
      "875\n",
      "Receiving complete from 192.168.1.11\n",
      "2923\n",
      "Started receiving\n",
      "1024\n",
      "1024\n",
      "876\n",
      "Receiving complete from 192.168.1.17\n",
      "2924\n",
      "261.40499114990234\n"
     ]
    }
   ],
   "source": [
    "import time\n",
    "tick = time.time()\n",
    "for IP in client_lookup:\n",
    "    client_lookup[IP].receiving(\"D:\\\\Shareable Folder\")\n",
    "clock= time.time()\n",
    "print(str(1000*(clock-tick)))\n"
   ]
  },
  {
   "cell_type": "code",
   "execution_count": 13,
   "metadata": {},
   "outputs": [],
   "source": [
    "target = \"Result.txt\"\n",
    "for IP in client_lookup:\n",
    "    with open(IP,'rb') as tempfile:\n",
    "        data  = tempfile.read()\n",
    "        with open(target,'ab') as dest:\n",
    "            dest.write(data)"
   ]
  },
  {
   "cell_type": "code",
   "execution_count": 6,
   "metadata": {},
   "outputs": [],
   "source": [
    "import os"
   ]
  },
  {
   "cell_type": "code",
   "execution_count": 10,
   "metadata": {},
   "outputs": [
    {
     "data": {
      "text/plain": [
       "['192.168.1.11',\n",
       " '192.168.1.17',\n",
       " 'A.jpg',\n",
       " 'A.png',\n",
       " 'B.jpg',\n",
       " 'B.pdf',\n",
       " 'config.json',\n",
       " 'config.json.txt',\n",
       " 'Gift.jpg',\n",
       " 'intermediate.txt',\n",
       " 'lakshay.pdf',\n",
       " 'Lists T1.txt',\n",
       " 'Naya.txt',\n",
       " 'New Text Document.txt',\n",
       " 'OpenLab.drawio',\n",
       " 'prasanna.pdf',\n",
       " 'prasbhai.pdf',\n",
       " 'Sample1.txt',\n",
       " 'sathya.pdf',\n",
       " 'satya.pdf',\n",
       " 'TEMP',\n",
       " 'Textbook.pdf',\n",
       " 'vardhan.pdf',\n",
       " 'VLSI_Design_Record_ECE18081.pdf']"
      ]
     },
     "execution_count": 10,
     "metadata": {},
     "output_type": "execute_result"
    }
   ],
   "source": [
    "os.getcwd()\n",
    "os.listdir()"
   ]
  },
  {
   "cell_type": "code",
   "execution_count": null,
   "metadata": {},
   "outputs": [],
   "source": []
  }
 ],
 "metadata": {
  "kernelspec": {
   "display_name": "Python 3",
   "language": "python",
   "name": "python3"
  },
  "language_info": {
   "codemirror_mode": {
    "name": "ipython",
    "version": 3
   },
   "file_extension": ".py",
   "mimetype": "text/x-python",
   "name": "python",
   "nbconvert_exporter": "python",
   "pygments_lexer": "ipython3",
   "version": "3.9.2"
  }
 },
 "nbformat": 4,
 "nbformat_minor": 4
}
