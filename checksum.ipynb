{
 "cells": [
  {
   "cell_type": "code",
   "execution_count": null,
   "id": "brazilian-korea",
   "metadata": {},
   "outputs": [],
   "source": [
    "import os\n",
    "import hashlib\n",
    "\n",
    "hasher=hashlib.md5()\n",
    "os.chdir(\"/Users/vishal/Desktop/shareable_folder\")\n",
    "os.getcwd()\n",
    "x=os.listdir()\n",
    "size = os.path.getsize('Digital Nurture Summary FAQMarch2021_1694112807.docx')\n",
    "sizeto = size\n",
    "print(size)\n",
    "remaining = 0\n",
    "\n",
    "with open('Digital Nurture Summary FAQMarch2021_1694112807.docx', 'rb') as jod:\n",
    "    content=jod.read()\n",
    "    hasher.update(content)\n",
    "source_check=hasher.hexdigest()\n",
    "\n",
    "with open('Digital Nurture Summary FAQMarch2021_1694112807.docx', 'rb') as source:\n",
    "    while(sizeto > 0):\n",
    "        remaining = min(sizeto,10240)\n",
    "        data = source.read(remaining)\n",
    "        sizeto -= 10240\n",
    "        with open('lakshay.docx','ab') as destination:\n",
    "            destination.write(data)\n",
    "        #size2 = os.path.getsize('B.png')\n",
    "        print(sizeto)\n",
    "with open('lakshay.docx','rb') as God:\n",
    "    content=God.read()\n",
    "    hasher.update(content)\n",
    "dest_check=hasher.hexdigest()\n",
    "\n",
    "if source_check != dest_check:\n",
    "    print(\"failed\")\n",
    "else:\n",
    "    print(\"done\")\n"
   ]
  }
 ],
 "metadata": {
  "kernelspec": {
   "display_name": "Python 3",
   "language": "python",
   "name": "python3"
  },
  "language_info": {
   "codemirror_mode": {
    "name": "ipython",
    "version": 3
   },
   "file_extension": ".py",
   "mimetype": "text/x-python",
   "name": "python",
   "nbconvert_exporter": "python",
   "pygments_lexer": "ipython3",
   "version": "3.9.2"
  }
 },
 "nbformat": 4,
 "nbformat_minor": 5
}
