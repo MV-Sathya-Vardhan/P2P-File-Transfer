{
 "cells": [
  {
   "cell_type": "code",
   "execution_count": null,
   "id": "arabic-klein",
   "metadata": {},
   "outputs": [],
   "source": [
    "import mysql.connector"
   ]
  },
  {
   "cell_type": "code",
   "execution_count": null,
   "id": "harmful-steam",
   "metadata": {},
   "outputs": [],
   "source": [
    "db = mysql.connector.connect(\n",
    "    host = \"192.168.1.11\",\n",
    "    user = \"OpenLab\",\n",
    "    passwd = \"peer2peer\",\n",
    "    database = \"openlabdatabase\")\n",
    "\n",
    "mycursor = db.cursor()"
   ]
  },
  {
   "cell_type": "code",
   "execution_count": null,
   "id": "organizational-magic",
   "metadata": {},
   "outputs": [],
   "source": [
    "import hashlib\n",
    "\n",
    "def CheckSOM(filename):\n",
    "    hasher=hashlib.md5()\n",
    "    with open(filename, 'rb') as file:\n",
    "        content=file.read()\n",
    "        hasher.update(content)\n",
    "    return hasher.hexdigest()"
   ]
  },
  {
   "cell_type": "markdown",
   "id": "aware-resistance",
   "metadata": {},
   "source": [
    "# INITIALIZING DATABASE\n"
   ]
  },
  {
   "cell_type": "code",
   "execution_count": null,
   "id": "short-return",
   "metadata": {},
   "outputs": [],
   "source": [
    "USERNAME = input(\"Enter Username: \")\n",
    "PublicIP = input(\"Enter PublicIP: \")\n",
    "config = (USERNAME,PublicIP)\n",
    "mycursor.execute(f\"DELETE FROM filedatabase WHERE USERNAME = '{USERNAME}' \")\n",
    "db.commit()\n",
    "mycursor.execute(f\"DELETE FROM userdatabase WHERE USERNAME = '{USERNAME}' \")\n",
    "db.commit()\n",
    "mycursor.execute(f\"\"\"INSERT INTO userdatabase (USERNAME,PublicIP) \n",
    "VALUES {config}\"\"\")\n",
    "datalist = []\n",
    "loc = input(\"Create a folder named Shareable Folder and enter location of the folder with extra back-slash: \")\n",
    "os.chdir(loc)\n",
    "contents = os.listdir()    \n",
    "for name in contents:\n",
    "    if os.path.isfile(i):\n",
    "        datalist.append((name, os.path.getsize(name), f\"{loc}\", CheckSOM(name), f\"{USERNAME}\"))\n",
    "\n",
    "datalist = [str(i) for i in datalist]\n",
    "values = ','.join(datalist)\n",
    "\n",
    "mycursor.execute(f\"\"\"INSERT INTO filedatabase (FILENAME,SIZE,LOCATION,CHECKSUM,USERNAME) \n",
    "VALUES {values}\"\"\")\n",
    "db.commit()"
   ]
  },
  {
   "cell_type": "code",
   "execution_count": 18,
   "id": "involved-survey",
   "metadata": {},
   "outputs": [],
   "source": [
    "l1 = ['a', 'b', 'c']\n",
    "l2 = [1,2,3]\n",
    "l3 = ['I', 'II', 'III']\n",
    "\n",
    "hello = \"hi\"\n",
    "l = []\n",
    "for i,a in enumerate(l1):\n",
    "    l.append((a,f\"{hello}\",l2[i]))"
   ]
  },
  {
   "cell_type": "code",
   "execution_count": 19,
   "id": "conventional-tamil",
   "metadata": {},
   "outputs": [
    {
     "data": {
      "text/plain": [
       "[('a', 'hi', 1), ('b', 'hi', 2), ('c', 'hi', 3)]"
      ]
     },
     "execution_count": 19,
     "metadata": {},
     "output_type": "execute_result"
    }
   ],
   "source": [
    "l"
   ]
  },
  {
   "cell_type": "code",
   "execution_count": 6,
   "id": "fallen-encounter",
   "metadata": {},
   "outputs": [],
   "source": [
    "lmod = [str(i) for i in l]\n",
    "values = ', '.join(lmod)"
   ]
  },
  {
   "cell_type": "code",
   "execution_count": 7,
   "id": "lovely-vector",
   "metadata": {},
   "outputs": [
    {
     "ename": "NameError",
     "evalue": "name 'i' is not defined",
     "output_type": "error",
     "traceback": [
      "\u001b[1;31m---------------------------------------------------------------------------\u001b[0m",
      "\u001b[1;31mNameError\u001b[0m                                 Traceback (most recent call last)",
      "\u001b[1;32m<ipython-input-7-6a7d93071435>\u001b[0m in \u001b[0;36m<module>\u001b[1;34m\u001b[0m\n\u001b[0;32m      1\u001b[0m f\"\"\"INSERT INTO filedatabase (FILENAME,SIZE,LOCATION,CHECKSUM,USERNAME) \n\u001b[1;32m----> 2\u001b[1;33m VALUES ({i}, {size}, {loc}, {source_check}, {USERNAME})\"\"\"\n\u001b[0m",
      "\u001b[1;31mNameError\u001b[0m: name 'i' is not defined"
     ]
    }
   ],
   "source": [
    "f\"\"\"INSERT INTO filedatabase (FILENAME,SIZE,LOCATION,CHECKSUM,USERNAME) \n",
    "VALUES ({i}, {size}, {loc}, {source_check}, {USERNAME})\"\"\""
   ]
  },
  {
   "cell_type": "code",
   "execution_count": 9,
   "id": "optional-field",
   "metadata": {},
   "outputs": [
    {
     "name": "stdout",
     "output_type": "stream",
     "text": [
      "INSERT INTO filedatabase (FILENAME,SIZE,LOCATION,CHECKSUM,USERNAME) \n",
      "VALUES ('a', 1, 'I'), ('b', 2, 'II'), ('c', 3, 'III')\n"
     ]
    }
   ],
   "source": [
    "print(f\"\"\"INSERT INTO filedatabase (FILENAME,SIZE,LOCATION,CHECKSUM,USERNAME) \n",
    "VALUES {values}\"\"\")"
   ]
  },
  {
   "cell_type": "code",
   "execution_count": null,
   "id": "saving-finnish",
   "metadata": {},
   "outputs": [],
   "source": []
  }
 ],
 "metadata": {
  "kernelspec": {
   "display_name": "Python 3",
   "language": "python",
   "name": "python3"
  },
  "language_info": {
   "codemirror_mode": {
    "name": "ipython",
    "version": 3
   },
   "file_extension": ".py",
   "mimetype": "text/x-python",
   "name": "python",
   "nbconvert_exporter": "python",
   "pygments_lexer": "ipython3",
   "version": "3.9.2"
  }
 },
 "nbformat": 4,
 "nbformat_minor": 5
}
