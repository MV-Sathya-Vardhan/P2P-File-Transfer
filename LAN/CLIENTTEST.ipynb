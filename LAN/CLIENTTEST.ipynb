{
 "cells": [
  {
   "cell_type": "code",
   "execution_count": 1,
   "id": "simplified-packaging",
   "metadata": {},
   "outputs": [],
   "source": [
    "from clientLAN import Client\n",
    "import time\n",
    "import threading\n",
    "import os"
   ]
  },
  {
   "cell_type": "code",
   "execution_count": 2,
   "id": "fourth-footwear",
   "metadata": {},
   "outputs": [
    {
     "name": "stdout",
     "output_type": "stream",
     "text": [
      "Test Movie.mp4 with size 1074575924 Found on 192.168.1.17\n"
     ]
    }
   ],
   "source": [
    "listof_IPs = ['192.168.1.17']\n",
    "size = 1074575924\n",
    "Filename = \"Test Movie.mp4\"\n",
    "\n",
    "number_of_peers = len(listof_IPs)\n",
    "inc = size//number_of_peers\n",
    "offset = 0\n",
    "offset_lookup = {}\n",
    "for i,IP in enumerate(listof_IPs):\n",
    "    if IP not in offset_lookup:\n",
    "        offset_lookup[IP] = dict()\n",
    "    offset_lookup[IP]['start'] = offset\n",
    "    if i == number_of_peers-1:\n",
    "        offset_lookup[IP]['end'] = size\n",
    "    else:\n",
    "        offset_lookup[IP]['end'] = offset + inc\n",
    "        offset += inc\n",
    "client_lookup = {}\n",
    "for IP in listof_IPs:\n",
    "    client_lookup[IP] = Client(IP,offset_lookup[IP]['start'],offset_lookup[IP]['end'],Filename)\n",
    "    \n",
    "for IP in client_lookup:\n",
    "    client_lookup[IP].handshake()"
   ]
  },
  {
   "cell_type": "code",
   "execution_count": 5,
   "id": "organizational-merchant",
   "metadata": {},
   "outputs": [
    {
     "name": "stdout",
     "output_type": "stream",
     "text": [
      "[DOWNLOADING] Started downloading...\n",
      "Started receiving\n",
      "[RECEIVING]...\n",
      "[RECEIVING]...\n",
      "[RECEIVING]...\n",
      "[RECEIVING]...\n",
      "[RECEIVING]...\n",
      "[RECEIVING]...\n",
      "[RECEIVING]...\n",
      "[RECEIVING]...\n",
      "[RECEIVING]...\n",
      "[RECEIVING]...\n",
      "[RECEIVING]...\n",
      "[RECEIVING]...\n",
      "[RECEIVING]...\n",
      "[RECEIVING]...\n",
      "[RECEIVING]...\n",
      "[RECEIVING]...\n",
      "[RECEIVING]...\n",
      "[RECEIVING]...\n",
      "[RECEIVING]...\n",
      "[RECEIVING]...\n",
      "[RECEIVING]...\n",
      "[RECEIVING]...\n",
      "[RECEIVING]...\n",
      "[RECEIVING]...\n",
      "[RECEIVING]...\n",
      "[RECEIVING]...\n",
      "[RECEIVING]...\n",
      "[RECEIVING]...\n",
      "[RECEIVING]...\n",
      "[RECEIVING]...\n",
      "[RECEIVING]...\n",
      "[RECEIVING]...\n",
      "[RECEIVING]...\n",
      "[RECEIVING]...\n",
      "[RECEIVING]...\n",
      "[RECEIVING]...\n",
      "[RECEIVING]...\n",
      "[RECEIVING]...\n",
      "[RECEIVING]...\n",
      "[RECEIVING]...\n",
      "[RECEIVING]...\n",
      "[RECEIVING]...\n",
      "[RECEIVING]...\n",
      "[RECEIVING]...\n",
      "[RECEIVING]...\n",
      "[RECEIVING]...\n",
      "[RECEIVING]...\n",
      "[RECEIVING]...\n",
      "[RECEIVING]...\n",
      "[RECEIVING]...\n",
      "[RECEIVING]...\n",
      "[RECEIVING]...\n",
      "Receiving complete from 192.168.1.17\n",
      "1074575924\n",
      "[COMPLETED] Finished downloading in 6.49 seconds!\n"
     ]
    }
   ],
   "source": [
    "location = \"D:\\Shareable Folder\"\n",
    "\n",
    "tick = time.time()\n",
    "\n",
    "print(\"[DOWNLOADING] Started downloading...\")\n",
    "threads=[]\n",
    "for IP in client_lookup:\n",
    "    t=threading.Thread(target=client_lookup[IP].receiving, args=[location])\n",
    "    t.start()\n",
    "    threads.append(t)\n",
    "for thread in threads:\n",
    "    thread.join()\n",
    "\n",
    "clock= time.time()\n",
    "print(f\"[COMPLETED] Finished downloading in {(clock-tick):.2f} seconds!\")"
   ]
  },
  {
   "cell_type": "code",
   "execution_count": 4,
   "id": "increased-naples",
   "metadata": {},
   "outputs": [
    {
     "data": {
      "text/plain": [
       "{'192.168.1.17': {'start': 0, 'end': 1074575924}}"
      ]
     },
     "execution_count": 4,
     "metadata": {},
     "output_type": "execute_result"
    }
   ],
   "source": [
    "offset_lookup"
   ]
  },
  {
   "cell_type": "code",
   "execution_count": 6,
   "id": "structured-warren",
   "metadata": {},
   "outputs": [
    {
     "name": "stdout",
     "output_type": "stream",
     "text": [
      "[JOINING] Joining chunks...\n",
      "1 of 1 chunks joined...\n",
      "[COMPLETE] Joining complete...\n"
     ]
    }
   ],
   "source": [
    "print(\"[JOINING] Joining chunks...\")\n",
    "target = Filename\n",
    "count = 0\n",
    "for IP in client_lookup:\n",
    "    with open(IP,'rb') as tempfile:\n",
    "        data  = tempfile.read()\n",
    "        with open(target,'ab') as dest:\n",
    "            dest.write(data)\n",
    "    count += 1\n",
    "    print(f\"{count} of {number_of_peers} chunks joined...\")\n",
    "    os.remove(IP)\n",
    "print(\"[COMPLETE] Joining complete...\")"
   ]
  },
  {
   "cell_type": "code",
   "execution_count": null,
   "id": "approximate-stylus",
   "metadata": {},
   "outputs": [],
   "source": []
  }
 ],
 "metadata": {
  "kernelspec": {
   "display_name": "Python 3",
   "language": "python",
   "name": "python3"
  },
  "language_info": {
   "codemirror_mode": {
    "name": "ipython",
    "version": 3
   },
   "file_extension": ".py",
   "mimetype": "text/x-python",
   "name": "python",
   "nbconvert_exporter": "python",
   "pygments_lexer": "ipython3",
   "version": "3.9.2"
  }
 },
 "nbformat": 4,
 "nbformat_minor": 5
}
