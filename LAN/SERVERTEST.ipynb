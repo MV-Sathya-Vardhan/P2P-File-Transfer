{
 "cells": [
  {
   "cell_type": "code",
   "execution_count": 2,
   "id": "competent-meaning",
   "metadata": {},
   "outputs": [],
   "source": [
    "from serverLAN import Server\n",
    "import os"
   ]
  },
  {
   "cell_type": "code",
   "execution_count": null,
   "id": "bigger-newton",
   "metadata": {},
   "outputs": [
    {
     "name": "stdout",
     "output_type": "stream",
     "text": [
      "[STARTING] server is starting...\n",
      "[LISTENING] Server is listening on 192.168.1.17\n",
      "[NEW CONNECTION] ('192.168.1.17', 55256) connected.\n",
      "[NEW CONNECTION] ('192.168.1.17', 55257) connected.\n",
      "[SENDING]...\n",
      "[SENDING]...\n",
      "[SENDING]...\n",
      "[SENDING]...\n",
      "[SENDING]...\n",
      "[SENDING]...\n",
      "[SENDING]...\n",
      "[SENDING]...\n",
      "[SENDING]...\n",
      "[SENDING]...\n",
      "[SENDING]...\n",
      "[SENDING]...\n",
      "[SENDING]...\n",
      "[SENDING]...\n",
      "[SENDING]...\n",
      "[SENDING]...\n",
      "[SENDING]...\n",
      "[SENDING]...\n",
      "[SENDING]...\n",
      "[SENDING]...\n",
      "[SENDING]...\n",
      "[SENDING]...\n",
      "[SENDING]...\n",
      "[SENDING]...\n",
      "[SENDING]...\n",
      "[SENDING]...\n",
      "[SENDING]...\n",
      "[SENDING]...\n",
      "[SENDING]...\n",
      "[SENDING]...\n",
      "[SENDING]...\n",
      "[SENDING]...\n",
      "[SENDING]...\n",
      "[SENDING]...\n",
      "[SENDING]...\n",
      "[SENDING]...\n",
      "[SENDING]...\n",
      "[SENDING]...\n",
      "[SENDING]...\n",
      "[SENDING]...\n",
      "[SENDING]...\n",
      "[SENDING]...\n",
      "[SENDING]...\n",
      "[SENDING]...\n",
      "[SENDING]...\n",
      "[SENDING]...\n",
      "[SENDING]...\n",
      "[SENDING]...\n",
      "[SENDING]...\n",
      "[SENDING]...\n",
      "[SENDING]...\n",
      "[SENDING]...\n",
      "[COMPLETED] Sending complete...\n",
      "[DISCONNECTED] ('192.168.1.17', 55257)[DISCONNECTED] ('192.168.1.17', 55256)\n",
      "\n"
     ]
    }
   ],
   "source": [
    "server1 = Server('D:\\Shareable Folder')"
   ]
  },
  {
   "cell_type": "code",
   "execution_count": null,
   "id": "western-egyptian",
   "metadata": {},
   "outputs": [],
   "source": []
  }
 ],
 "metadata": {
  "kernelspec": {
   "display_name": "Python 3",
   "language": "python",
   "name": "python3"
  },
  "language_info": {
   "codemirror_mode": {
    "name": "ipython",
    "version": 3
   },
   "file_extension": ".py",
   "mimetype": "text/x-python",
   "name": "python",
   "nbconvert_exporter": "python",
   "pygments_lexer": "ipython3",
   "version": "3.9.2"
  }
 },
 "nbformat": 4,
 "nbformat_minor": 5
}
