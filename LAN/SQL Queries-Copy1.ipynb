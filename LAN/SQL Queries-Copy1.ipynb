{
 "cells": [
  {
   "cell_type": "code",
   "execution_count": 4,
   "id": "institutional-atlantic",
   "metadata": {},
   "outputs": [],
   "source": [
    "import os\n",
    "import hashlib\n",
    "from dbconnector import connection\n",
    "\n",
    "mycursor,db = connection(\"192.168.1.11\")"
   ]
  },
  {
   "cell_type": "code",
   "execution_count": 5,
   "id": "organizational-magic",
   "metadata": {},
   "outputs": [],
   "source": [
    "def CheckSOM(filename):\n",
    "    hasher=hashlib.md5()\n",
    "    with open(filename, 'rb') as file:\n",
    "        content=file.read()\n",
    "        hasher.update(content)\n",
    "    return hasher.hexdigest()"
   ]
  },
  {
   "cell_type": "markdown",
   "id": "aware-resistance",
   "metadata": {},
   "source": [
    "# INITIALIZING DATABASE\n"
   ]
  },
  {
   "cell_type": "code",
   "execution_count": 9,
   "id": "short-return",
   "metadata": {},
   "outputs": [
    {
     "name": "stdout",
     "output_type": "stream",
     "text": [
      "Enter Username: TEST\n",
      "Enter PublicIP: 23.324.212.32\n",
      "Create a folder named Shareable Folder and enter location of the folder with extra back-slash: D:\\Shareable Folder\n"
     ]
    }
   ],
   "source": [
    "USERNAME = input(\"Enter Username: \")\n",
    "PublicIP = input(\"Enter PublicIP: \")\n",
    "config = (USERNAME,PublicIP)\n",
    "mycursor.execute(f\"DELETE FROM filedatabase WHERE USERNAME = '{USERNAME}' \")\n",
    "db.commit()\n",
    "mycursor.execute(f\"DELETE FROM userdatabase WHERE USERNAME = '{USERNAME}' \")\n",
    "db.commit()\n",
    "mycursor.execute(f\"\"\"INSERT INTO userdatabase (USERNAME,PublicIP) \n",
    "VALUES {config}\"\"\")\n",
    "datalist = []\n",
    "loc = input(\"Create a folder named Shareable Folder and enter location of the folder with extra back-slash: \")\n",
    "os.chdir(loc)\n",
    "contents = os.listdir()    \n",
    "for name in contents:\n",
    "    if os.path.isfile(name):\n",
    "        datalist.append((name, os.path.getsize(name), f\"{loc}\", CheckSOM(name), f\"{USERNAME}\"))\n",
    "\n",
    "datalist = [str(i) for i in datalist]\n",
    "values = ','.join(datalist)\n",
    "\n",
    "mycursor.execute(f\"\"\"INSERT INTO filedatabase (FILENAME,SIZE,LOCATION,CHECKSUM,USERNAME) \n",
    "VALUES {values}\"\"\")\n",
    "db.commit()\n",
    "\n",
    "# Enter Username: TEST\n",
    "# Enter PublicIP: 23.324.212.32\n",
    "# Create a folder named Shareable Folder and enter location of the folder with extra back-slash: D:\\Shareable Folder"
   ]
  },
  {
   "cell_type": "code",
   "execution_count": 8,
   "id": "saving-finnish",
   "metadata": {},
   "outputs": [],
   "source": [
    "mycursor.execute(\"SELECT * FROM filedatabase\")\n",
    "\n",
    "for x in mycursor:\n",
    "    print(x)"
   ]
  },
  {
   "cell_type": "code",
   "execution_count": 3,
   "id": "familiar-elizabeth",
   "metadata": {},
   "outputs": [],
   "source": [
    "mycursor.execute(\"SELECT * FROM filedatabase\")\n",
    "\n",
    "for x in mycursor:\n",
    "    print(x)"
   ]
  },
  {
   "cell_type": "code",
   "execution_count": 7,
   "id": "silent-origin",
   "metadata": {},
   "outputs": [],
   "source": [
    "mycursor.execute(\"DELETE From filedatabase\")\n",
    "db.commit()\n"
   ]
  },
  {
   "cell_type": "code",
   "execution_count": null,
   "id": "tribal-gazette",
   "metadata": {},
   "outputs": [],
   "source": []
  }
 ],
 "metadata": {
  "kernelspec": {
   "display_name": "Python 3",
   "language": "python",
   "name": "python3"
  },
  "language_info": {
   "codemirror_mode": {
    "name": "ipython",
    "version": 3
   },
   "file_extension": ".py",
   "mimetype": "text/x-python",
   "name": "python",
   "nbconvert_exporter": "python",
   "pygments_lexer": "ipython3",
   "version": "3.9.2"
  }
 },
 "nbformat": 4,
 "nbformat_minor": 5
}
